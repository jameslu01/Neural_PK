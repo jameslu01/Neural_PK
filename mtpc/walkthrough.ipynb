{
 "cells": [
  {
   "cell_type": "code",
   "execution_count": null,
   "metadata": {},
   "outputs": [],
   "source": [
    "\"\"\"\n",
    "Here is run.sh, that we will reproduce here\n",
    "```\n",
    "python process_data.py\n",
    "for fold in 1 2 3 4 5; do\n",
    "    for model in 1 2 3 4 5; do\n",
    "        python data_split.py --data data.csv --fold $fold --model $model\n",
    "\n",
    "        CUDA_VISIBLE_DEVICES=\"\" python run_train.py --fold $fold --model $model --save fold_$fold --lr 0.00005 --tol 1e-4 --epochs 30 --l2 0.1\n",
    "        CUDA_VISIBLE_DEVICES=\"\" python run_predict.py --fold $fold --model $model --save fold_$fold --tol 1e-4\n",
    "    done\n",
    "done    \n",
    "```\n",
    "Note: evaluation.py is never called in run.sh but we will add it in properly.\n",
    "\"\"\""
   ]
  },
  {
   "cell_type": "code",
   "execution_count": null,
   "metadata": {},
   "outputs": [],
   "source": [
    "import pandas as pd\n"
   ]
  },
  {
   "cell_type": "code",
   "execution_count": null,
   "metadata": {},
   "outputs": [],
   "source": [
    "\"\"\"\n",
    "Example data has the following columns:\n",
    "  - STUD - Study ID. Can be 1000, 2000, 3000.\n",
    "  - PTNM - Patient number. Can be repeated between studies, but for example patient 1 in Study 1000 is not the same person as patient 1 in study 2000.\n",
    "  - DSFQ - Dosage frequency is how often the dose is administred. Only 1 or 3.\n",
    "  - AMT - Dosage amount. Can be 0 when measurements taken between doses.\n",
    "  - TIME - Time since beginning of patient's treatment.\n",
    "  - TFDS - Time since dose.\n",
    "  - DV - Concentration measurement. \n",
    "  \n",
    "# TODO: comment the code below\n",
    "\"\"\"\n",
    "\n",
    "\n",
    "data_complete = pd.read_csv(\"../../ExampleData/sim_data.csv\", na_values=\".\")\n",
    "\n",
    "select_cols = [\"STUD\", \"DSFQ\", \"PTNM\", \"CYCL\", \"AMT\", \"TIME\", \"TFDS\", \"DV\"]\n",
    "if \"C\" in data_complete.columns.values:\n",
    "    data_complete = data_complete[data_complete.C.isnull()]\n",
    "data_complete = data_complete[data_complete.CYCL < 100]\n",
    "data_complete = data_complete[select_cols]\n",
    "data_complete = data_complete.rename(columns={\"DV\": \"PK_timeCourse\"})\n",
    "data_complete[\"PTNM\"] = data_complete[\"PTNM\"].astype(\"int\").map(\"{:05d}\".format)\n",
    "data_complete[\"ID\"] = data_complete[\"STUD\"].astype(\"int\").astype(\"str\") + data_complete[\"PTNM\"]\n",
    "\n",
    "time_summary = data_complete[[\"ID\", \"TIME\"]].groupby(\"ID\").max().reset_index()\n",
    "selected_ptnms = time_summary[time_summary.TIME > 0].ID\n",
    "data_complete = data_complete[data_complete.ID.isin(selected_ptnms)]\n",
    "\n",
    "data_complete[\"AMT\"] = data_complete[\"AMT\"].fillna(0)\n",
    "data_complete[\"PK_round1\"] = data_complete[\"PK_timeCourse\"]\n",
    "data_complete.loc[(data_complete.DSFQ == 1) & (data_complete.TIME >= 168), \"PK_round1\"] = 0\n",
    "data_complete.loc[(data_complete.DSFQ == 3) & (data_complete.TIME >= 504), \"PK_round1\"] = 0\n",
    "data_complete[\"PK_round1\"] = data_complete[\"PK_round1\"].fillna(0)\n",
    "data_complete[\"PK_timeCourse\"] = data_complete[\"PK_timeCourse\"].fillna(-1)\n",
    "\n",
    "data_complete = data_complete[~((data_complete.AMT == 0) & (data_complete.TIME == 0))]\n",
    "data_complete.loc[data_complete[[\"PTNM\", \"TIME\"]].duplicated(keep=\"last\"), \"AMT\"] = data_complete.loc[\n",
    "    data_complete[[\"PTNM\", \"TIME\"]].duplicated(keep=\"first\"), \"AMT\"\n",
    "].values\n",
    "data_complete = data_complete[~data_complete[[\"PTNM\", \"TIME\"]].duplicated(keep=\"first\")]\n",
    "\n",
    "data_complete.to_csv(\"data.csv\", index=False)\n"
   ]
  }
 ],
 "metadata": {
  "language_info": {
   "name": "python"
  },
  "orig_nbformat": 4
 },
 "nbformat": 4,
 "nbformat_minor": 2
}
